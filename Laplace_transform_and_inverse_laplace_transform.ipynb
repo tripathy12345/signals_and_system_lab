{
  "nbformat": 4,
  "nbformat_minor": 0,
  "metadata": {
    "colab": {
      "provenance": []
    },
    "kernelspec": {
      "name": "python3",
      "display_name": "Python 3"
    },
    "language_info": {
      "name": "python"
    }
  },
  "cells": [
    {
      "cell_type": "markdown",
      "source": [
        "Demonstrate Laplace transform of Continious time signal using python"
      ],
      "metadata": {
        "id": "4xmQNExpO576"
      }
    },
    {
      "cell_type": "code",
      "execution_count": 40,
      "metadata": {
        "colab": {
          "base_uri": "https://localhost:8080/"
        },
        "id": "_yr_TL36OR1Q",
        "outputId": "ab327e42-3c59-4a01-c59b-346c5d9345ea"
      },
      "outputs": [
        {
          "output_type": "stream",
          "name": "stdout",
          "text": [
            "Time domain signal: x(t):\n",
            "θ(t)\n",
            "Time domain signal: x1(t):\n",
            " -2⋅t     \n",
            "ℯ    ⋅θ(t)\n",
            "Time domain signal: x2(t):\n",
            " -2⋅t              \n",
            "ℯ    ⋅cos(3⋅t)⋅θ(t)\n"
          ]
        }
      ],
      "source": [
        "#pip install sympy\n",
        "import sympy as sp\n",
        "from sympy.integrals.transforms import laplace_transform\n",
        "from sympy.abc import t, s\n",
        "\n",
        "# Define the continuous-time signal\n",
        "# For example, let's take the signal x(t) = e^(-2t) * sin(3t) * u(t),\n",
        "# where u(t) is the unit step function\n",
        "x_t = sp.Heaviside(t)\n",
        "x1_t = sp.exp(-2 * t) * sp.Heaviside(t)\n",
        "x2_t = sp.exp(-2 * t) * sp.cos(3 * t) * sp.Heaviside(t)\n",
        "\n",
        "# Calculate the Laplace transform\n",
        "X_s, _, _ = laplace_transform(x_t, t, s)\n",
        "\n",
        "# Calculate the Laplace transform\n",
        "X1_s, _, _ = laplace_transform(x1_t, t, s)\n",
        "X2_s, _, _ = laplace_transform(x2_t, t, s)\n",
        "\n",
        "# Display the result\n",
        "print(\"Time domain signal: x(t):\")\n",
        "sp.pretty_print(x_t)\n",
        "# Display the result\n",
        "print(\"Time domain signal: x1(t):\")\n",
        "sp.pretty_print(x1_t)\n",
        "# Display the result\n",
        "print(\"Time domain signal: x2(t):\")\n",
        "sp.pretty_print(x2_t)"
      ]
    },
    {
      "cell_type": "code",
      "source": [
        "print(\"Laplace Transform of x(t):\")\n",
        "sp.pretty_print(X_s)\n",
        "print(\"Laplace Transform of x1(t):\")\n",
        "sp.pretty_print(X1_s)\n",
        "print(\"Laplace Transform of x2(t):\")\n",
        "sp.pretty_print(X2_s)"
      ],
      "metadata": {
        "colab": {
          "base_uri": "https://localhost:8080/"
        },
        "id": "JI0dg_M9OxCT",
        "outputId": "cf940178-eb7e-47bc-e37e-5281fd96fb88"
      },
      "execution_count": 41,
      "outputs": [
        {
          "output_type": "stream",
          "name": "stdout",
          "text": [
            "Laplace Transform of x(t):\n",
            "1\n",
            "─\n",
            "s\n",
            "Laplace Transform of x1(t):\n",
            "  1  \n",
            "─────\n",
            "s + 2\n",
            "Laplace Transform of x2(t):\n",
            "       1                 1       \n",
            "─────────────── + ───────────────\n",
            "2⋅(s + 2 + 3⋅ⅈ)   2⋅(s + 2 - 3⋅ⅈ)\n"
          ]
        }
      ]
    },
    {
      "cell_type": "markdown",
      "source": [
        "Demonstrate Inverse Laplace transform using python"
      ],
      "metadata": {
        "id": "HArX6zS2P53y"
      }
    },
    {
      "cell_type": "code",
      "source": [
        "# import inverse_laplace_transform\n",
        "from sympy.integrals.transforms import inverse_laplace_transform\n",
        "from sympy import exp, Symbol\n",
        "from sympy.abc import s, t\n",
        "\n",
        "a = Symbol('a', positive = True)\n",
        "# Using inverse_laplace_transform() method\n",
        "gfg1 = inverse_laplace_transform(exp(-a * s)/s, s, t)\n",
        "print(gfg1)\n",
        "\n",
        "gfg2 = inverse_laplace_transform(X1_s, s, t)\n",
        "print(gfg2)\n",
        "\n",
        "gfg3 = inverse_laplace_transform(X2_s, s, t)\n",
        "print(gfg3)\n"
      ],
      "metadata": {
        "colab": {
          "base_uri": "https://localhost:8080/"
        },
        "id": "QJIQmelXP_Xi",
        "outputId": "12b77d93-fdd7-46b0-b0f8-2811e9acefc2"
      },
      "execution_count": 42,
      "outputs": [
        {
          "output_type": "stream",
          "name": "stdout",
          "text": [
            "Heaviside(-a + t)\n",
            "exp(-2*t)*Heaviside(t)\n",
            "exp(t*(-2 - 3*I))*Heaviside(t)/2 + exp(t*(-2 + 3*I))*Heaviside(t)/2\n"
          ]
        }
      ]
    },
    {
      "cell_type": "markdown",
      "source": [
        "Pole-zero plot of a continious time system"
      ],
      "metadata": {
        "id": "Gy1xnjGhRjar"
      }
    },
    {
      "cell_type": "code",
      "source": [
        "import numpy as np\n",
        "import matplotlib.pyplot as plt\n",
        "from scipy.signal import TransferFunction, tf2zpk\n",
        "\n",
        "# Define the transfer function coefficients\n",
        "numerator = [1]\n",
        "denominator = [1, 0.5, 1]\n",
        "\n",
        "# Create a TransferFunction object\n",
        "system = TransferFunction(numerator, denominator)\n",
        "\n",
        "# Extract poles, zeros, and gain from the transfer function\n",
        "zeros, poles, gain = tf2zpk(system.num, system.den)\n",
        "\n",
        "# Plot the pole-zero plot\n",
        "plt.scatter(np.real(poles), np.imag(poles), marker='x', color='r', label='Poles')\n",
        "plt.scatter(np.real(zeros), np.imag(zeros), marker='o', color='b', label='Zeros')\n",
        "\n",
        "plt.axhline(0, color='black', linestyle='--', linewidth=0.8)\n",
        "plt.axvline(0, color='black', linestyle='--', linewidth=0.8)\n",
        "plt.title('Pole-Zero Plot')\n",
        "plt.xlabel('Real')\n",
        "plt.ylabel('Imaginary')\n",
        "plt.legend()\n",
        "plt.grid(True)\n",
        "plt.show()\n"
      ],
      "metadata": {
        "colab": {
          "base_uri": "https://localhost:8080/",
          "height": 472
        },
        "id": "p_-fVnRDRNPK",
        "outputId": "d6a64ae4-e609-4820-d526-d84eb8105c9e"
      },
      "execution_count": 43,
      "outputs": [
        {
          "output_type": "display_data",
          "data": {
            "text/plain": [
              "<Figure size 640x480 with 1 Axes>"
            ],
            "image/png": "[encoded data removed]"
          },
          "metadata": {}
        }
      ]
    }
  ]
}