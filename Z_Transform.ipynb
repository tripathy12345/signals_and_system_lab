{
  "nbformat": 4,
  "nbformat_minor": 0,
  "metadata": {
    "colab": {
      "provenance": []
    },
    "kernelspec": {
      "name": "python3",
      "display_name": "Python 3"
    },
    "language_info": {
      "name": "python"
    }
  },
  "cells": [
    {
      "cell_type": "markdown",
      "source": [
        "Demonstration of Z-transform using Python"
      ],
      "metadata": {
        "id": "laQVZj5HqaUg"
      }
    },
    {
      "cell_type": "code",
      "source": [
        "import sympy as sym"
      ],
      "metadata": {
        "id": "MyOTjMldqdg5"
      },
      "execution_count": 2,
      "outputs": []
    },
    {
      "cell_type": "code",
      "source": [
        "k = sym.symbols('k', integer=True)\n",
        "z = sym.symbols('z', complex=True)\n",
        "y=sym.KroneckerDelta(k, 0)\n",
        "X = sym.summation(y * z**(-k), (k, -sym.oo, sym.oo))\n",
        "X"
      ],
      "metadata": {
        "colab": {
          "base_uri": "https://localhost:8080/",
          "height": 37
        },
        "id": "H2-DEPkKqjDa",
        "outputId": "2113d830-f104-4fec-fd7c-5b1bddf2f13b"
      },
      "execution_count": 23,
      "outputs": [
        {
          "output_type": "execute_result",
          "data": {
            "text/plain": [
              "1"
            ],
            "text/latex": "$\\displaystyle 1$"
          },
          "metadata": {},
          "execution_count": 23
        }
      ]
    },
    {
      "cell_type": "code",
      "source": [
        "u_n = 1\n",
        "u_n"
      ],
      "metadata": {
        "colab": {
          "base_uri": "https://localhost:8080/",
          "height": 37
        },
        "id": "a2u8N6HAvEgY",
        "outputId": "9fc94f47-f8c1-4362-e2bc-3b047bc6837d"
      },
      "execution_count": 31,
      "outputs": [
        {
          "output_type": "execute_result",
          "data": {
            "text/plain": [
              "1"
            ],
            "text/latex": "$\\displaystyle 1$"
          },
          "metadata": {},
          "execution_count": 31
        }
      ]
    },
    {
      "cell_type": "code",
      "source": [
        "X = sym.summation(u_n * z**(-k), (k, 0, sym.oo))\n",
        "X"
      ],
      "metadata": {
        "colab": {
          "base_uri": "https://localhost:8080/",
          "height": 69
        },
        "id": "rMPf5w0qvm3Q",
        "outputId": "6d683afd-ce6c-4f19-8342-9ec191a3c85a"
      },
      "execution_count": 33,
      "outputs": [
        {
          "output_type": "execute_result",
          "data": {
            "text/plain": [
              "⎧    1           1     \n",
              "⎪  ─────    for ─── < 1\n",
              "⎪      1        │z│    \n",
              "⎪  1 - ─               \n",
              "⎪      z               \n",
              "⎪                      \n",
              "⎪  ∞                   \n",
              "⎨ ___                  \n",
              "⎪ ╲                    \n",
              "⎪  ╲    -k             \n",
              "⎪  ╱   z     otherwise \n",
              "⎪ ╱                    \n",
              "⎪ ‾‾‾                  \n",
              "⎪k = 0                 \n",
              "⎩                      "
            ],
            "text/latex": "$\\displaystyle \\begin{cases} \\frac{1}{1 - \\frac{1}{z}} & \\text{for}\\: \\frac{1}{\\left|{z}\\right|} < 1 \\\\\\sum_{k=0}^{\\infty} z^{- k} & \\text{otherwise} \\end{cases}$"
          },
          "metadata": {},
          "execution_count": 33
        }
      ]
    },
    {
      "cell_type": "code",
      "source": [
        "uu=1\n",
        "X = sym.summation(uu * z**(-k), (k, -sym.oo, -1))\n",
        "X"
      ],
      "metadata": {
        "colab": {
          "base_uri": "https://localhost:8080/",
          "height": 68
        },
        "id": "BCnsAxXKw0Hw",
        "outputId": "5577b708-bbde-4e4c-e0d5-666876ce5194"
      },
      "execution_count": 36,
      "outputs": [
        {
          "output_type": "execute_result",
          "data": {
            "text/plain": [
              "⎧    z                  \n",
              "⎪  ─────     for │z│ < 1\n",
              "⎪  1 - z                \n",
              "⎪                       \n",
              "⎪  -1                   \n",
              "⎪ ___                   \n",
              "⎨ ╲                     \n",
              "⎪  ╲     -k             \n",
              "⎪  ╱    z     otherwise \n",
              "⎪ ╱                     \n",
              "⎪ ‾‾‾                   \n",
              "⎪k = -∞                 \n",
              "⎩                       "
            ],
            "text/latex": "$\\displaystyle \\begin{cases} \\frac{z}{1 - z} & \\text{for}\\: \\left|{z}\\right| < 1 \\\\\\sum_{k=-\\infty}^{-1} z^{- k} & \\text{otherwise} \\end{cases}$"
          },
          "metadata": {},
          "execution_count": 36
        }
      ]
    },
    {
      "cell_type": "code",
      "source": [
        "z0 = sym.symbols('z0')\n",
        "p=z0**k\n",
        "X = sym.summation(p * z**(-k), (k, 0, sym.oo))\n",
        "X"
      ],
      "metadata": {
        "colab": {
          "base_uri": "https://localhost:8080/",
          "height": 69
        },
        "id": "oBm2AmEerFh5",
        "outputId": "b431b84d-b420-4c23-ebda-a2af9accc905"
      },
      "execution_count": 4,
      "outputs": [
        {
          "output_type": "execute_result",
          "data": {
            "text/plain": [
              "⎧     1             │z₀│    \n",
              "⎪   ──────      for │──│ < 1\n",
              "⎪       z₀          │z │    \n",
              "⎪   1 - ──                  \n",
              "⎪       z                   \n",
              "⎪                           \n",
              "⎪  ∞                        \n",
              "⎨ ___                       \n",
              "⎪ ╲                         \n",
              "⎪  ╲    -k   k              \n",
              "⎪  ╱   z  ⋅z₀    otherwise  \n",
              "⎪ ╱                         \n",
              "⎪ ‾‾‾                       \n",
              "⎪k = 0                      \n",
              "⎩                           "
            ],
            "text/latex": "$\\displaystyle \\begin{cases} \\frac{1}{1 - \\frac{z_{0}}{z}} & \\text{for}\\: \\left|{\\frac{z_{0}}{z}}\\right| < 1 \\\\\\sum_{k=0}^{\\infty} z^{- k} z_{0}^{k} & \\text{otherwise} \\end{cases}$"
          },
          "metadata": {},
          "execution_count": 4
        }
      ]
    },
    {
      "cell_type": "code",
      "source": [
        "poles = sym.roots(sym.denom(X), z)\n",
        "poles"
      ],
      "metadata": {
        "colab": {
          "base_uri": "https://localhost:8080/",
          "height": 39
        },
        "id": "zGTZhdm6rrSB",
        "outputId": "0bfd423f-f8a9-4f3c-8efa-614903f6e32b"
      },
      "execution_count": 7,
      "outputs": [
        {
          "output_type": "execute_result",
          "data": {
            "text/plain": [
              "{z₀: 1}"
            ],
            "text/latex": "$\\displaystyle \\left\\{ z_{0} : 1\\right\\}$"
          },
          "metadata": {},
          "execution_count": 7
        }
      ]
    },
    {
      "cell_type": "code",
      "source": [
        "zeros = sym.roots(sym.numer(X), z)\n",
        "zeros"
      ],
      "metadata": {
        "colab": {
          "base_uri": "https://localhost:8080/",
          "height": 37
        },
        "id": "b2vQezEErvaJ",
        "outputId": "77d749d9-3345-4791-9f0b-73a1e41ae223"
      },
      "execution_count": 8,
      "outputs": [
        {
          "output_type": "execute_result",
          "data": {
            "text/plain": [
              "{0: 1}"
            ],
            "text/latex": "$\\displaystyle \\left\\{ 0 : 1\\right\\}$"
          },
          "metadata": {},
          "execution_count": 8
        }
      ]
    },
    {
      "cell_type": "code",
      "source": [
        "import matplotlib.pyplot as plt\n",
        "from matplotlib.markers import MarkerStyle\n",
        "from matplotlib.patches import Circle\n",
        "\n",
        "\n",
        "def pole_zero_plot(p, z):\n",
        "\n",
        "    fig = plt.figure(figsize=(5,5))\n",
        "    ax = fig.gca()\n",
        "\n",
        "    for pole in p:\n",
        "        plt.plot(complex(pole).real, complex(pole).imag, 'rx', markersize=10)\n",
        "    for zero in z:\n",
        "        plt.plot(complex(zero).real, complex(zero).imag, 'bo', markersize=10, fillstyle='none')\n",
        "\n",
        "    unit_circle = Circle((0,0), radius=1, fill=False,\n",
        "                         color='black', ls='solid', alpha=0.7)\n",
        "    ax.add_patch(unit_circle)\n",
        "    ax.axvline(0, color='0.7')\n",
        "    ax.axhline(0, color='0.7')\n",
        "\n",
        "    plt.axis('equal')\n",
        "    plt.xlim((-2, 2))\n",
        "    plt.ylim((-2, 2))\n",
        "    plt.grid()\n",
        "    plt.title('Poles and Zeros')\n",
        "    plt.xlabel(r'Re{$z$}')\n",
        "    plt.ylabel(r'Im{$z$}')\n"
      ],
      "metadata": {
        "id": "3KDTsCy0sqQJ"
      },
      "execution_count": 12,
      "outputs": []
    },
    {
      "cell_type": "code",
      "source": [
        "X2 = X.subs(z0, 1+sym.I)\n",
        "pole_zero_plot(sym.roots(sym.denom(X2), z), sym.roots(sym.numer(X2), z))"
      ],
      "metadata": {
        "colab": {
          "base_uri": "https://localhost:8080/",
          "height": 489
        },
        "id": "NC94XpCCrzYZ",
        "outputId": "0566e6e9-b55d-42e7-b726-7daf3fd19f12"
      },
      "execution_count": 14,
      "outputs": [
        {
          "output_type": "display_data",
          "data": {
            "text/plain": [
              "<Figure size 500x500 with 1 Axes>"
            ],
            "image/png": "[encoded data removed]"
          },
          "metadata": {}
        }
      ]
    },
    {
      "cell_type": "code",
      "source": [
        "import sympy as sym\n",
        "%matplotlib inline\n",
        "sym.init_printing()\n",
        "\n",
        "z = sym.symbols('z', complex=True)\n",
        "W0 = sym.symbols('Omega0', real=True)\n",
        "\n",
        "X = z * (z - sym.cos(W0)) / (z**2 - 2*z*sym.cos(W0) + 1)\n",
        "X"
      ],
      "metadata": {
        "colab": {
          "base_uri": "https://localhost:8080/",
          "height": 57
        },
        "id": "xPgcLMm-tJPp",
        "outputId": "ab3ac8c0-3e30-4d0e-a141-921bf55c534a"
      },
      "execution_count": 15,
      "outputs": [
        {
          "output_type": "execute_result",
          "data": {
            "text/plain": [
              "  z⋅(z - cos(Ω₀))   \n",
              "────────────────────\n",
              " 2                  \n",
              "z  - 2⋅z⋅cos(Ω₀) + 1"
            ],
            "text/latex": "$\\displaystyle \\frac{z \\left(z - \\cos{\\left(\\Omega_{0} \\right)}\\right)}{z^{2} - 2 z \\cos{\\left(\\Omega_{0} \\right)} + 1}$"
          },
          "metadata": {},
          "execution_count": 15
        }
      ]
    },
    {
      "cell_type": "code",
      "source": [
        "poles = sym.roots(sym.denom(X), z)\n",
        "poles"
      ],
      "metadata": {
        "colab": {
          "base_uri": "https://localhost:8080/",
          "height": 47
        },
        "id": "TAyImPx3tNIY",
        "outputId": "a7aa6206-ac73-4b20-ab7d-3ebca3ea39d5"
      },
      "execution_count": 16,
      "outputs": [
        {
          "output_type": "execute_result",
          "data": {
            "text/plain": [
              "⎧    _____________________________                 ___________________________\n",
              "⎨- ╲╱ (cos(Ω₀) - 1)⋅(cos(Ω₀) + 1)  + cos(Ω₀): 1, ╲╱ (cos(Ω₀) - 1)⋅(cos(Ω₀) + 1\n",
              "⎩                                                                             \n",
              "\n",
              "__             ⎫\n",
              ")  + cos(Ω₀): 1⎬\n",
              "               ⎭"
            ],
            "text/latex": "$\\displaystyle \\left\\{ - \\sqrt{\\left(\\cos{\\left(\\Omega_{0} \\right)} - 1\\right) \\left(\\cos{\\left(\\Omega_{0} \\right)} + 1\\right)} + \\cos{\\left(\\Omega_{0} \\right)} : 1, \\  \\sqrt{\\left(\\cos{\\left(\\Omega_{0} \\right)} - 1\\right) \\left(\\cos{\\left(\\Omega_{0} \\right)} + 1\\right)} + \\cos{\\left(\\Omega_{0} \\right)} : 1\\right\\}$"
          },
          "metadata": {},
          "execution_count": 16
        }
      ]
    },
    {
      "cell_type": "code",
      "source": [
        "zeros = sym.roots(sym.numer(X), z)\n",
        "zeros"
      ],
      "metadata": {
        "colab": {
          "base_uri": "https://localhost:8080/",
          "height": 37
        },
        "id": "A4mUUCeMtSCQ",
        "outputId": "ccd23c01-b15d-400c-cbce-a437dbcd6a98"
      },
      "execution_count": 17,
      "outputs": [
        {
          "output_type": "execute_result",
          "data": {
            "text/plain": [
              "{0: 1, cos(Ω₀): 1}"
            ],
            "text/latex": "$\\displaystyle \\left\\{ 0 : 1, \\  \\cos{\\left(\\Omega_{0} \\right)} : 1\\right\\}$"
          },
          "metadata": {},
          "execution_count": 17
        }
      ]
    },
    {
      "cell_type": "code",
      "source": [
        "X2 = X.subs(W0, sym.pi/4)\n",
        "pole_zero_plot(sym.roots(sym.denom(X2), z), sym.roots(sym.numer(X2), z))"
      ],
      "metadata": {
        "colab": {
          "base_uri": "https://localhost:8080/",
          "height": 489
        },
        "id": "J8XFgUwntc1A",
        "outputId": "6c2c7694-79cb-4b84-8d32-bd620382d8bb"
      },
      "execution_count": 18,
      "outputs": [
        {
          "output_type": "display_data",
          "data": {
            "text/plain": [
              "<Figure size 500x500 with 1 Axes>"
            ],
            "image/png": "[encoded data removed]"
          },
          "metadata": {}
        }
      ]
    },
    {
      "cell_type": "code",
      "source": [
        "z0 = sym.symbols('z0', complex=True)\n",
        "sym.summation(z0**k * z**(-k), (k, -sym.oo, -1))"
      ],
      "metadata": {
        "colab": {
          "base_uri": "https://localhost:8080/",
          "height": 78
        },
        "id": "JbXd-Up2t0dr",
        "outputId": "1495aa69-a987-4f23-de24-dbaee6cc8b8f"
      },
      "execution_count": 19,
      "outputs": [
        {
          "output_type": "execute_result",
          "data": {
            "text/plain": [
              "⎧      z             │z │    \n",
              "⎪─────────────   for │──│ < 1\n",
              "⎪   ⎛  z     ⎞       │z₀│    \n",
              "⎪z₀⋅⎜- ── + 1⎟               \n",
              "⎪   ⎝  z₀    ⎠               \n",
              "⎪                            \n",
              "⎪  -1                        \n",
              "⎨ ___                        \n",
              "⎪ ╲                          \n",
              "⎪  ╲     -k   k              \n",
              "⎪  ╱    z  ⋅z₀    otherwise  \n",
              "⎪ ╱                          \n",
              "⎪ ‾‾‾                        \n",
              "⎪k = -∞                      \n",
              "⎩                            "
            ],
            "text/latex": "$\\displaystyle \\begin{cases} \\frac{z}{z_{0} \\left(- \\frac{z}{z_{0}} + 1\\right)} & \\text{for}\\: \\left|{\\frac{z}{z_{0}}}\\right| < 1 \\\\\\sum_{k=-\\infty}^{-1} z^{- k} z_{0}^{k} & \\text{otherwise} \\end{cases}$"
          },
          "metadata": {},
          "execution_count": 19
        }
      ]
    },
    {
      "cell_type": "code",
      "source": [
        "import sympy as sym\n",
        "%matplotlib inline\n",
        "sym.init_printing()\n",
        "\n",
        "N = 5\n",
        "M = 7\n",
        "\n",
        "z = sym.symbols('z', complex=True)\n",
        "k = sym.symbols('k', integer=True)\n",
        "\n",
        "X = sym.summation(z**(-k), (k,0,N-1)) * sym.summation(z**(-k), (k,0,M-1))\n",
        "\n",
        "poles = sym.roots(sym.denom(X) * z, z)\n",
        "zeros = sym.roots(sym.numer(X) * z**(N+M-2), z)\n",
        "\n",
        "pole_zero_plot(poles, zeros)"
      ],
      "metadata": {
        "colab": {
          "base_uri": "https://localhost:8080/",
          "height": 489
        },
        "id": "U0imGqaQuHJA",
        "outputId": "d7adb83b-5eeb-4e75-edee-71bf7d8f592b"
      },
      "execution_count": 21,
      "outputs": [
        {
          "output_type": "display_data",
          "data": {
            "text/plain": [
              "<Figure size 500x500 with 1 Axes>"
            ],
            "image/png": "[encoded data removed]"
          },
          "metadata": {}
        }
      ]
    }
  ]
}